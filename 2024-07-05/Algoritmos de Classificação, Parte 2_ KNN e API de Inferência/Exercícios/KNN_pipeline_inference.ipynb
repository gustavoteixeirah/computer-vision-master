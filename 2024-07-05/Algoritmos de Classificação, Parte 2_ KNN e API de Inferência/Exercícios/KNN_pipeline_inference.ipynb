{
  "cells": [
    {
      "cell_type": "markdown",
      "metadata": {
        "id": "AIYJAU9hIirt"
      },
      "source": [
        "#Carregar a Base de Dados Fashion-Mnist para teste"
      ]
    },
    {
      "cell_type": "code",
      "source": [
        "import numpy as np\n",
        "from PIL import Image\n",
        "from IPython.display import display\n",
        "\n",
        "# Caminho para a imagem no diretório corrente\n",
        "image_path = 'Ankle boot.png'  # Substitua pelo nome do seu arquivo de imagem\n",
        "\n",
        "# Carregar a imagem\n",
        "img = Image.open(image_path).convert('L')  # Converter para escala de cinza\n",
        "img_array = np.array(img)\n",
        "\n",
        "display(img)\n",
        "print(img_array.shape)"
      ],
      "metadata": {
        "colab": {
          "base_uri": "https://localhost:8080/",
          "height": 62
        },
        "id": "5iuzmQZYlL_i",
        "outputId": "4e35e9ff-833b-404e-fbbc-87bc9f1b815e"
      },
      "execution_count": 2,
      "outputs": [
        {
          "output_type": "display_data",
          "data": {
            "text/plain": [
              "<PIL.Image.Image image mode=L size=28x28>"
            ],
            "image/png": "[encoded data removed]"
          },
          "metadata": {}
        },
        {
          "output_type": "stream",
          "name": "stdout",
          "text": [
            "(28, 28)\n"
          ]
        }
      ]
    },
    {
      "cell_type": "code",
      "source": [
        "import cv2\n",
        "\n",
        "def apply_clahe(image):\n",
        "    clahe = cv2.createCLAHE(clipLimit=2.0, tileGridSize=(8, 8))\n",
        "    image_clahe = clahe.apply(image)\n",
        "    return image_clahe\n",
        "\n",
        "\n",
        "def normalize_data(image):\n",
        "    return image.astype('float32') / 255.0\n",
        "\n",
        "\n",
        "def flatten_data(image):\n",
        "    return image.flatten().reshape(1, -1)"
      ],
      "metadata": {
        "id": "JyCm0S90dncX"
      },
      "execution_count": 3,
      "outputs": []
    },
    {
      "cell_type": "code",
      "source": [
        "import joblib\n",
        "\n",
        "# Carregar o pipeline salvo\n",
        "joblib_file = \"pipeline.pkl\"\n",
        "loaded_pipeline = joblib.load(joblib_file)\n",
        "\n",
        "# Pré-processamento\n",
        "image = apply_clahe(img_array)\n",
        "image = normalize_data(image)\n",
        "image = flatten_data(image)\n",
        "\n",
        "# Fazer previsões com o pipeline carregado\n",
        "predictions = loaded_pipeline.predict(image)\n",
        "\n",
        "# Exibir a previsão\n",
        "print('A classe real é:', image_path.split('.')[0])\n",
        "print('A classe inferida foi:', predictions[0])"
      ],
      "metadata": {
        "colab": {
          "base_uri": "https://localhost:8080/"
        },
        "id": "chcXWAwjc7j_",
        "outputId": "b81c3842-5c95-49a0-ed15-c79c35ff8493"
      },
      "execution_count": 4,
      "outputs": [
        {
          "output_type": "stream",
          "name": "stdout",
          "text": [
            "A classe real é: Ankle boot\n",
            "A classe inferida foi: Ankle boot\n"
          ]
        }
      ]
    }
  ],
  "metadata": {
    "colab": {
      "provenance": []
    },
    "kernelspec": {
      "display_name": "Python 3",
      "name": "python3"
    },
    "language_info": {
      "name": "python"
    }
  },
  "nbformat": 4,
  "nbformat_minor": 0
}